{
 "cells": [
  {
   "cell_type": "code",
   "execution_count": 1,
   "metadata": {},
   "outputs": [],
   "source": [
    "%load_ext autoreload\n",
    "%autoreload 2"
   ]
  },
  {
   "cell_type": "code",
   "execution_count": 2,
   "metadata": {},
   "outputs": [],
   "source": [
    "\n",
    "import os\n",
    "import sys\n",
    "import json\n",
    "\n",
    "import numpy as np\n",
    "import pandas as pd\n",
    "\n",
    "import matplotlib.pyplot as plt\n",
    "from matplotlib import rcParams\n",
    "from matplotlib import font_manager\n",
    "%matplotlib inline\n",
    "import matplotlib.colors as colors\n"
   ]
  },
  {
   "cell_type": "code",
   "execution_count": 3,
   "metadata": {},
   "outputs": [],
   "source": [
    "# resource configuration\n",
    "rcParams['figure.dpi'] = 200\n",
    "\n",
    "# fount information\n",
    "rcParams['font.family'] = 'Equinor'\n",
    "rcParams['font.size'] = 9\n",
    "\n",
    "# fornt location\n",
    "font_path = r'Equinor_regular'\n",
    "font_files = font_manager.findSystemFonts(fontpaths=font_path)\n",
    "\n",
    "for font_file in font_files:\n",
    "    font_manager.fontManager.addfont(font_file)"
   ]
  },
  {
   "cell_type": "code",
   "execution_count": 4,
   "metadata": {},
   "outputs": [],
   "source": [
    "# where WellClass and Ga[ codes are located\n",
    "sys.path.append('../')"
   ]
  },
  {
   "cell_type": "code",
   "execution_count": 5,
   "metadata": {},
   "outputs": [],
   "source": [
    "# WellClass\n",
    "# from well_class_v2 import csv_parser, Well\n",
    "from src.WellClass.libs.utils import (\n",
    "    csv_parser,\n",
    "    yaml_parser,\n",
    ")\n",
    "from src.WellClass.libs.well_class import Well\n",
    "from src.WellClass.libs.well_pressure import Pressure"
   ]
  },
  {
   "cell_type": "markdown",
   "metadata": {},
   "source": [
    "## Some user options"
   ]
  },
  {
   "cell_type": "code",
   "execution_count": 6,
   "metadata": {},
   "outputs": [],
   "source": [
    "# pick an example from given three options\n",
    "\n",
    "case_type = 'wildcat'\n",
    "\n",
    "# case_type = 'smeaheia_v1'\n",
    "\n",
    "# case_type = 'smeaheia_v2'"
   ]
  },
  {
   "cell_type": "code",
   "execution_count": 7,
   "metadata": {},
   "outputs": [],
   "source": [
    "# where pvt located\n",
    "pvt_path = '../test_data/pvt_constants/'"
   ]
  },
  {
   "cell_type": "markdown",
   "metadata": {},
   "source": [
    "# Examples\n",
    "\n",
    "The following are the test examples."
   ]
  },
  {
   "cell_type": "code",
   "execution_count": 8,
   "metadata": {},
   "outputs": [],
   "source": [
    "# examples\n",
    "smeaheia_v1 = {'well_input': r'GaP_input_Smeaheia_v3.csv', \n",
    "               'well_input_yaml': r'smeaheia.yaml', \n",
    "            #    'sim_path': r'/scratch/SCS/eim/SMEAHEIA', \n",
    "               'sim_path': r'../test_data/examples/smeaheia_v1',\n",
    "               'simcase': r'GEN_NOLGR_PH2'}\n",
    "smeaheia_v2 = {'well_input': r'GaP_input_Smeaheia_v3.csv', \n",
    "               'well_input_yaml': r'smeaheia.yaml', \n",
    "            #    'sim_path': r'/scratch/SCS/bkh/wbook/realization-0/iter-0/pflotran/model', \n",
    "               'sim_path': r'../test_data/examples/smeaheia_v2', \n",
    "               'simcase': r'TEMP-0'}\n",
    "wildcat = {\n",
    "         'well_input': r'GaP_input_Wildcat_v3.csv', \n",
    "         'well_input_yaml': r'wildcat.yaml', \n",
    "        #  'sim_path': r'/scratch/SCS/bkh/well_class_test1/realization-0/iter-0/pflotran/model', \n",
    "         'sim_path': r'../test_data/examples/wildcat', \n",
    "         'simcase': r'TEMP-0'}"
   ]
  },
  {
   "cell_type": "code",
   "execution_count": 9,
   "metadata": {},
   "outputs": [],
   "source": [
    "examples = {\n",
    "    'smeaheia_v1': smeaheia_v1,\n",
    "    'smeaheia_v2': smeaheia_v2,\n",
    "    'wildcat': wildcat\n",
    "}"
   ]
  },
  {
   "cell_type": "code",
   "execution_count": 10,
   "metadata": {},
   "outputs": [],
   "source": [
    "# the selected example for testing\n",
    "case = examples[case_type]\n"
   ]
  },
  {
   "cell_type": "code",
   "execution_count": 11,
   "metadata": {},
   "outputs": [],
   "source": [
    "\n",
    "# root_path = '/scratch/SCS/gpb/SCREEN/GaP_code'\n",
    "\n",
    "sim_path = case['sim_path']\n"
   ]
  },
  {
   "cell_type": "markdown",
   "metadata": {},
   "source": [
    "# Load well CSV file\n",
    "\n",
    "Process CSV with well class.\n",
    "Predefine a dictionary that includes the input CSV well file, the simulation path, and the PFT sim case name"
   ]
  },
  {
   "cell_type": "code",
   "execution_count": 12,
   "metadata": {},
   "outputs": [],
   "source": [
    "# where well configuration file is located\n",
    "well_name = os.path.join(sim_path, case['well_input'])\n",
    "\n",
    "# load the well information\n",
    "well_csv = csv_parser(well_name)"
   ]
  },
  {
   "cell_type": "code",
   "execution_count": 13,
   "metadata": {
    "scrolled": true
   },
   "outputs": [],
   "source": [
    "#Process well by running well class\n",
    "my_well = Well( header       = well_csv['well_header'], \n",
    "                drilling     = well_csv['drilling'],\n",
    "                casings      = well_csv['casing_cement'],\n",
    "                geology      = well_csv['geology'],\n",
    "                barriers     = well_csv['barriers'], \n",
    "                barrier_perm = well_csv['barrier_permeability'],\n",
    "                co2_datum    = well_csv['co2_datum'],\n",
    "           )"
   ]
  },
  {
   "cell_type": "code",
   "execution_count": 14,
   "metadata": {},
   "outputs": [
    {
     "data": {
      "text/html": [
       "<div>\n",
       "<style scoped>\n",
       "    .dataframe tbody tr th:only-of-type {\n",
       "        vertical-align: middle;\n",
       "    }\n",
       "\n",
       "    .dataframe tbody tr th {\n",
       "        vertical-align: top;\n",
       "    }\n",
       "\n",
       "    .dataframe thead th {\n",
       "        text-align: right;\n",
       "    }\n",
       "</style>\n",
       "<table border=\"1\" class=\"dataframe\">\n",
       "  <thead>\n",
       "    <tr style=\"text-align: right;\">\n",
       "      <th></th>\n",
       "      <th>top_rkb</th>\n",
       "      <th>geol_unit</th>\n",
       "      <th>reservoir_flag</th>\n",
       "      <th>top_msl</th>\n",
       "      <th>base_msl</th>\n",
       "    </tr>\n",
       "  </thead>\n",
       "  <tbody>\n",
       "    <tr>\n",
       "      <th>0</th>\n",
       "      <td>132</td>\n",
       "      <td>NORDLAND GP</td>\n",
       "      <td>False</td>\n",
       "      <td>105.0</td>\n",
       "      <td>517.0</td>\n",
       "    </tr>\n",
       "    <tr>\n",
       "      <th>1</th>\n",
       "      <td>544</td>\n",
       "      <td>HORDALAND GP</td>\n",
       "      <td>False</td>\n",
       "      <td>517.0</td>\n",
       "      <td>1014.0</td>\n",
       "    </tr>\n",
       "    <tr>\n",
       "      <th>2</th>\n",
       "      <td>1041</td>\n",
       "      <td>ROGALAND GP</td>\n",
       "      <td>False</td>\n",
       "      <td>1014.0</td>\n",
       "      <td>1136.0</td>\n",
       "    </tr>\n",
       "    <tr>\n",
       "      <th>3</th>\n",
       "      <td>1163</td>\n",
       "      <td>SHETLAND GP</td>\n",
       "      <td>False</td>\n",
       "      <td>1136.0</td>\n",
       "      <td>1417.0</td>\n",
       "    </tr>\n",
       "    <tr>\n",
       "      <th>4</th>\n",
       "      <td>1444</td>\n",
       "      <td>CROMER KNOLL GP</td>\n",
       "      <td>False</td>\n",
       "      <td>1417.0</td>\n",
       "      <td>2095.0</td>\n",
       "    </tr>\n",
       "    <tr>\n",
       "      <th>5</th>\n",
       "      <td>2122</td>\n",
       "      <td>VIKING GP</td>\n",
       "      <td>False</td>\n",
       "      <td>2095.0</td>\n",
       "      <td>2238.0</td>\n",
       "    </tr>\n",
       "    <tr>\n",
       "      <th>6</th>\n",
       "      <td>2265</td>\n",
       "      <td>JURASSIC SS</td>\n",
       "      <td>True</td>\n",
       "      <td>2238.0</td>\n",
       "      <td>2325.0</td>\n",
       "    </tr>\n",
       "    <tr>\n",
       "      <th>7</th>\n",
       "      <td>2352</td>\n",
       "      <td>SKAGERRAK FM</td>\n",
       "      <td>True</td>\n",
       "      <td>2325.0</td>\n",
       "      <td>2505.0</td>\n",
       "    </tr>\n",
       "    <tr>\n",
       "      <th>8</th>\n",
       "      <td>2532</td>\n",
       "      <td>SMITH BANK FM</td>\n",
       "      <td>True</td>\n",
       "      <td>2505.0</td>\n",
       "      <td>2638.0</td>\n",
       "    </tr>\n",
       "    <tr>\n",
       "      <th>9</th>\n",
       "      <td>2665</td>\n",
       "      <td>ZECHSTEIN GP</td>\n",
       "      <td>False</td>\n",
       "      <td>2638.0</td>\n",
       "      <td>3802.0</td>\n",
       "    </tr>\n",
       "    <tr>\n",
       "      <th>10</th>\n",
       "      <td>3829</td>\n",
       "      <td>KUPFERSCHIEFER FM</td>\n",
       "      <td>False</td>\n",
       "      <td>3802.0</td>\n",
       "      <td>3807.0</td>\n",
       "    </tr>\n",
       "    <tr>\n",
       "      <th>11</th>\n",
       "      <td>3834</td>\n",
       "      <td>ROTLIEGEND GP</td>\n",
       "      <td>False</td>\n",
       "      <td>3807.0</td>\n",
       "      <td>3970.0</td>\n",
       "    </tr>\n",
       "  </tbody>\n",
       "</table>\n",
       "</div>"
      ],
      "text/plain": [
       "    top_rkb          geol_unit  reservoir_flag  top_msl  base_msl\n",
       "0       132        NORDLAND GP           False    105.0     517.0\n",
       "1       544       HORDALAND GP           False    517.0    1014.0\n",
       "2      1041        ROGALAND GP           False   1014.0    1136.0\n",
       "3      1163        SHETLAND GP           False   1136.0    1417.0\n",
       "4      1444    CROMER KNOLL GP           False   1417.0    2095.0\n",
       "5      2122          VIKING GP           False   2095.0    2238.0\n",
       "6      2265        JURASSIC SS            True   2238.0    2325.0\n",
       "7      2352       SKAGERRAK FM            True   2325.0    2505.0\n",
       "8      2532      SMITH BANK FM            True   2505.0    2638.0\n",
       "9      2665       ZECHSTEIN GP           False   2638.0    3802.0\n",
       "10     3829  KUPFERSCHIEFER FM           False   3802.0    3807.0\n",
       "11     3834      ROTLIEGEND GP           False   3807.0    3970.0"
      ]
     },
     "execution_count": 14,
     "metadata": {},
     "output_type": "execute_result"
    }
   ],
   "source": [
    "aa = pd.DataFrame(my_well.geology)\n",
    "aa"
   ]
  },
  {
   "cell_type": "code",
   "execution_count": 15,
   "metadata": {},
   "outputs": [
    {
     "data": {
      "text/plain": [
       "2370"
      ]
     },
     "execution_count": 15,
     "metadata": {},
     "output_type": "execute_result"
    }
   ],
   "source": [
    "my_well.co2_datum"
   ]
  },
  {
   "cell_type": "code",
   "execution_count": 16,
   "metadata": {},
   "outputs": [
    {
     "data": {
      "text/plain": [
       "{'depth_msl': 2238, 'RP1': nan, 'RP2': '+ 20'}"
      ]
     },
     "execution_count": 16,
     "metadata": {},
     "output_type": "execute_result"
    }
   ],
   "source": [
    "well_csv['reservoir_pressure']"
   ]
  },
  {
   "cell_type": "code",
   "execution_count": 17,
   "metadata": {},
   "outputs": [
    {
     "name": "stdout",
     "output_type": "stream",
     "text": [
      "Hydrostatic pressure at reference depth 2238 is 218.89\n",
      "RP1 set as hydrostatic P = 218.89 bar\n",
      "RP2 is set as delta pressure, which yields P = 218.89 +20.00 = 238.89 bar\n",
      "Reference depth: 2238\n"
     ]
    }
   ],
   "source": [
    "my_pressure = Pressure(\n",
    "    header      = well_csv['well_header'],\n",
    "    reservoir_P = well_csv['reservoir_pressure'],\n",
    "    co2_datum   = well_csv['co2_datum'],\n",
    "    pvt_path    = pvt_path,\n",
    ")"
   ]
  },
  {
   "cell_type": "markdown",
   "metadata": {},
   "source": [
    "### CO2 Leakage"
   ]
  },
  {
   "cell_type": "code",
   "execution_count": 18,
   "metadata": {},
   "outputs": [
    {
     "data": {
      "text/plain": [
       "'cplug1'"
      ]
     },
     "execution_count": 18,
     "metadata": {},
     "output_type": "execute_result"
    }
   ],
   "source": [
    "# pick one barrier\n",
    "main_barrier = well_csv['main_barrier']\n",
    "main_barrier"
   ]
  },
  {
   "cell_type": "code",
   "execution_count": 19,
   "metadata": {},
   "outputs": [
    {
     "name": "stdout",
     "output_type": "stream",
     "text": [
      "barrier_perm:  {0: 0.01, 1: 10.0, 2: 1000.0}\n"
     ]
    },
    {
     "data": {
      "text/html": [
       "<div>\n",
       "<style scoped>\n",
       "    .dataframe tbody tr th:only-of-type {\n",
       "        vertical-align: middle;\n",
       "    }\n",
       "\n",
       "    .dataframe tbody tr th {\n",
       "        vertical-align: top;\n",
       "    }\n",
       "\n",
       "    .dataframe thead th {\n",
       "        text-align: right;\n",
       "    }\n",
       "</style>\n",
       "<table border=\"1\" class=\"dataframe\">\n",
       "  <thead>\n",
       "    <tr style=\"text-align: right;\">\n",
       "      <th></th>\n",
       "      <th>0.01</th>\n",
       "      <th>10.00</th>\n",
       "      <th>1000.00</th>\n",
       "    </tr>\n",
       "  </thead>\n",
       "  <tbody>\n",
       "    <tr>\n",
       "      <th>RP1</th>\n",
       "      <td>0</td>\n",
       "      <td>0.00968</td>\n",
       "      <td>0.97926</td>\n",
       "    </tr>\n",
       "    <tr>\n",
       "      <th>RP2</th>\n",
       "      <td>0</td>\n",
       "      <td>0.01464</td>\n",
       "      <td>1.47506</td>\n",
       "    </tr>\n",
       "  </tbody>\n",
       "</table>\n",
       "</div>"
      ],
      "text/plain": [
       "    0.01     10.00    1000.00\n",
       "RP1       0  0.00968  0.97926\n",
       "RP2       0  0.01464  1.47506"
      ]
     },
     "execution_count": 19,
     "metadata": {},
     "output_type": "execute_result"
    }
   ],
   "source": [
    "# compute its leakage\n",
    "barrier_leakage = my_pressure.compute_barrier_leakage(my_well, main_barrier)\n",
    "barrier_leakage"
   ]
  },
  {
   "cell_type": "markdown",
   "metadata": {},
   "source": [
    "# Load well Yaml file\n",
    "\n",
    "Process yaml with well class.\n",
    "Predefine a dictionary that includes the input yaml well file, the simulation path, and the PFT sim case name"
   ]
  },
  {
   "cell_type": "code",
   "execution_count": 20,
   "metadata": {},
   "outputs": [],
   "source": [
    "# where well configuration file is located\n",
    "well_name = os.path.join(sim_path, case['well_input_yaml'])\n",
    "\n",
    "# # pydantic model\n",
    "well_model = yaml_parser(well_name)\n",
    "well_csv = json.loads(well_model.spec.model_dump_json())"
   ]
  },
  {
   "cell_type": "code",
   "execution_count": 21,
   "metadata": {},
   "outputs": [],
   "source": [
    "#Process well by running well class\n",
    "my_well_yaml = Well( header       = well_csv['well_header'], \n",
    "                     drilling     = well_csv['drilling'],\n",
    "                     casings      = well_csv['casing_cement'],\n",
    "                     geology      = well_csv['geology'],\n",
    "                     barriers     = well_csv['barriers'], \n",
    "                     barrier_perm = well_csv['barrier_permeability'],\n",
    "                     co2_datum    = well_csv['co2_datum'],\n",
    "           )"
   ]
  },
  {
   "cell_type": "code",
   "execution_count": 22,
   "metadata": {},
   "outputs": [
    {
     "data": {
      "text/html": [
       "<div>\n",
       "<style scoped>\n",
       "    .dataframe tbody tr th:only-of-type {\n",
       "        vertical-align: middle;\n",
       "    }\n",
       "\n",
       "    .dataframe tbody tr th {\n",
       "        vertical-align: top;\n",
       "    }\n",
       "\n",
       "    .dataframe thead th {\n",
       "        text-align: right;\n",
       "    }\n",
       "</style>\n",
       "<table border=\"1\" class=\"dataframe\">\n",
       "  <thead>\n",
       "    <tr style=\"text-align: right;\">\n",
       "      <th></th>\n",
       "      <th>top_rkb</th>\n",
       "      <th>geol_unit</th>\n",
       "      <th>reservoir_flag</th>\n",
       "      <th>top_msl</th>\n",
       "      <th>base_msl</th>\n",
       "    </tr>\n",
       "  </thead>\n",
       "  <tbody>\n",
       "    <tr>\n",
       "      <th>0</th>\n",
       "      <td>132</td>\n",
       "      <td>NORDLAND GP</td>\n",
       "      <td>False</td>\n",
       "      <td>105</td>\n",
       "      <td>517.0</td>\n",
       "    </tr>\n",
       "    <tr>\n",
       "      <th>1</th>\n",
       "      <td>544</td>\n",
       "      <td>HORDALAND GP</td>\n",
       "      <td>False</td>\n",
       "      <td>517</td>\n",
       "      <td>1014.0</td>\n",
       "    </tr>\n",
       "    <tr>\n",
       "      <th>2</th>\n",
       "      <td>1041</td>\n",
       "      <td>ROGALAND GP</td>\n",
       "      <td>False</td>\n",
       "      <td>1014</td>\n",
       "      <td>1136.0</td>\n",
       "    </tr>\n",
       "    <tr>\n",
       "      <th>3</th>\n",
       "      <td>1163</td>\n",
       "      <td>SHETLAND GP</td>\n",
       "      <td>False</td>\n",
       "      <td>1136</td>\n",
       "      <td>1417.0</td>\n",
       "    </tr>\n",
       "    <tr>\n",
       "      <th>4</th>\n",
       "      <td>1444</td>\n",
       "      <td>CROMER KNOLL GP</td>\n",
       "      <td>False</td>\n",
       "      <td>1417</td>\n",
       "      <td>2095.0</td>\n",
       "    </tr>\n",
       "    <tr>\n",
       "      <th>5</th>\n",
       "      <td>2122</td>\n",
       "      <td>VIKING GP</td>\n",
       "      <td>False</td>\n",
       "      <td>2095</td>\n",
       "      <td>2238.0</td>\n",
       "    </tr>\n",
       "    <tr>\n",
       "      <th>6</th>\n",
       "      <td>2265</td>\n",
       "      <td>JURASSIC SS</td>\n",
       "      <td>True</td>\n",
       "      <td>2238</td>\n",
       "      <td>2325.0</td>\n",
       "    </tr>\n",
       "    <tr>\n",
       "      <th>7</th>\n",
       "      <td>2352</td>\n",
       "      <td>SKAGERRAK FM</td>\n",
       "      <td>True</td>\n",
       "      <td>2325</td>\n",
       "      <td>2505.0</td>\n",
       "    </tr>\n",
       "    <tr>\n",
       "      <th>8</th>\n",
       "      <td>2532</td>\n",
       "      <td>SMITH BANK FM</td>\n",
       "      <td>True</td>\n",
       "      <td>2505</td>\n",
       "      <td>2638.0</td>\n",
       "    </tr>\n",
       "    <tr>\n",
       "      <th>9</th>\n",
       "      <td>2665</td>\n",
       "      <td>ZECHSTEIN GP</td>\n",
       "      <td>False</td>\n",
       "      <td>2638</td>\n",
       "      <td>3802.0</td>\n",
       "    </tr>\n",
       "    <tr>\n",
       "      <th>10</th>\n",
       "      <td>3829</td>\n",
       "      <td>KUPFERSCHIEFER FM</td>\n",
       "      <td>False</td>\n",
       "      <td>3802</td>\n",
       "      <td>3807.0</td>\n",
       "    </tr>\n",
       "    <tr>\n",
       "      <th>11</th>\n",
       "      <td>3834</td>\n",
       "      <td>ROTLIEGEND GP</td>\n",
       "      <td>False</td>\n",
       "      <td>3807</td>\n",
       "      <td>3970.0</td>\n",
       "    </tr>\n",
       "  </tbody>\n",
       "</table>\n",
       "</div>"
      ],
      "text/plain": [
       "    top_rkb          geol_unit  reservoir_flag  top_msl  base_msl\n",
       "0       132        NORDLAND GP           False      105     517.0\n",
       "1       544       HORDALAND GP           False      517    1014.0\n",
       "2      1041        ROGALAND GP           False     1014    1136.0\n",
       "3      1163        SHETLAND GP           False     1136    1417.0\n",
       "4      1444    CROMER KNOLL GP           False     1417    2095.0\n",
       "5      2122          VIKING GP           False     2095    2238.0\n",
       "6      2265        JURASSIC SS            True     2238    2325.0\n",
       "7      2352       SKAGERRAK FM            True     2325    2505.0\n",
       "8      2532      SMITH BANK FM            True     2505    2638.0\n",
       "9      2665       ZECHSTEIN GP           False     2638    3802.0\n",
       "10     3829  KUPFERSCHIEFER FM           False     3802    3807.0\n",
       "11     3834      ROTLIEGEND GP           False     3807    3970.0"
      ]
     },
     "execution_count": 22,
     "metadata": {},
     "output_type": "execute_result"
    }
   ],
   "source": [
    "bb = pd.DataFrame(my_well_yaml.geology)\n",
    "bb"
   ]
  },
  {
   "cell_type": "code",
   "execution_count": 23,
   "metadata": {},
   "outputs": [
    {
     "data": {
      "text/plain": [
       "2370.0"
      ]
     },
     "execution_count": 23,
     "metadata": {},
     "output_type": "execute_result"
    }
   ],
   "source": [
    "my_well_yaml.co2_datum"
   ]
  },
  {
   "cell_type": "code",
   "execution_count": 24,
   "metadata": {},
   "outputs": [
    {
     "data": {
      "text/plain": [
       "{'depth_msl': 2238, 'RP1': None, 'RP2': '+ 20', 'RP3': None}"
      ]
     },
     "execution_count": 24,
     "metadata": {},
     "output_type": "execute_result"
    }
   ],
   "source": [
    "well_csv['reservoir_pressure']"
   ]
  },
  {
   "cell_type": "code",
   "execution_count": 25,
   "metadata": {},
   "outputs": [
    {
     "name": "stdout",
     "output_type": "stream",
     "text": [
      "Hydrostatic pressure at reference depth 2238 is 218.89\n",
      "RP1 set as hydrostatic P = 218.89 bar\n",
      "RP2 is set as delta pressure, which yields P = 218.89 +20.00 = 238.89 bar\n",
      "None ignored\n",
      "Reference depth: 2238\n"
     ]
    }
   ],
   "source": [
    "my_pressure_yaml = Pressure(\n",
    "    header      = well_csv['well_header'],\n",
    "    reservoir_P = well_csv['reservoir_pressure'],\n",
    "    co2_datum   = well_csv['co2_datum'],\n",
    "    pvt_path    = pvt_path,\n",
    ")"
   ]
  },
  {
   "cell_type": "markdown",
   "metadata": {},
   "source": [
    "### CO2 Leakage"
   ]
  },
  {
   "cell_type": "code",
   "execution_count": 26,
   "metadata": {},
   "outputs": [
    {
     "data": {
      "text/plain": [
       "'cplug1'"
      ]
     },
     "execution_count": 26,
     "metadata": {},
     "output_type": "execute_result"
    }
   ],
   "source": [
    "# pick one barrier\n",
    "main_barrier = well_csv['main_barrier']\n",
    "main_barrier"
   ]
  },
  {
   "cell_type": "code",
   "execution_count": 27,
   "metadata": {},
   "outputs": [
    {
     "name": "stdout",
     "output_type": "stream",
     "text": [
      "barrier_perm:  {0: 0.01, 1: 10.0, 2: 1000.0}\n"
     ]
    },
    {
     "data": {
      "text/html": [
       "<div>\n",
       "<style scoped>\n",
       "    .dataframe tbody tr th:only-of-type {\n",
       "        vertical-align: middle;\n",
       "    }\n",
       "\n",
       "    .dataframe tbody tr th {\n",
       "        vertical-align: top;\n",
       "    }\n",
       "\n",
       "    .dataframe thead th {\n",
       "        text-align: right;\n",
       "    }\n",
       "</style>\n",
       "<table border=\"1\" class=\"dataframe\">\n",
       "  <thead>\n",
       "    <tr style=\"text-align: right;\">\n",
       "      <th></th>\n",
       "      <th>0.01</th>\n",
       "      <th>10.00</th>\n",
       "      <th>1000.00</th>\n",
       "    </tr>\n",
       "  </thead>\n",
       "  <tbody>\n",
       "    <tr>\n",
       "      <th>RP1</th>\n",
       "      <td>0</td>\n",
       "      <td>0.00968</td>\n",
       "      <td>0.97926</td>\n",
       "    </tr>\n",
       "    <tr>\n",
       "      <th>RP2</th>\n",
       "      <td>0</td>\n",
       "      <td>0.01464</td>\n",
       "      <td>1.47506</td>\n",
       "    </tr>\n",
       "  </tbody>\n",
       "</table>\n",
       "</div>"
      ],
      "text/plain": [
       "    0.01     10.00    1000.00\n",
       "RP1       0  0.00968  0.97926\n",
       "RP2       0  0.01464  1.47506"
      ]
     },
     "execution_count": 27,
     "metadata": {},
     "output_type": "execute_result"
    }
   ],
   "source": [
    "# compute its leakage\n",
    "barrier_leakage = my_pressure.compute_barrier_leakage(my_well, main_barrier)\n",
    "barrier_leakage"
   ]
  }
 ],
 "metadata": {
  "kernelspec": {
   "display_name": "Python 3 (ipykernel)",
   "language": "python",
   "name": "python3"
  },
  "language_info": {
   "codemirror_mode": {
    "name": "ipython",
    "version": 3
   },
   "file_extension": ".py",
   "mimetype": "text/x-python",
   "name": "python",
   "nbconvert_exporter": "python",
   "pygments_lexer": "ipython3",
   "version": "3.10.12"
  }
 },
 "nbformat": 4,
 "nbformat_minor": 4
}
