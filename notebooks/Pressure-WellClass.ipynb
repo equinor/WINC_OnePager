{
 "cells": [
  {
   "cell_type": "code",
   "execution_count": 42,
   "metadata": {},
   "outputs": [
    {
     "name": "stdout",
     "output_type": "stream",
     "text": [
      "The autoreload extension is already loaded. To reload it, use:\n",
      "  %reload_ext autoreload\n"
     ]
    }
   ],
   "source": [
    "%load_ext autoreload\n",
    "%autoreload 2"
   ]
  },
  {
   "cell_type": "code",
   "execution_count": 43,
   "metadata": {},
   "outputs": [],
   "source": [
    "\n",
    "import os\n",
    "import sys\n",
    "import json\n",
    "\n",
    "import pandas as pd\n",
    "\n",
    "import matplotlib.pyplot as plt\n",
    "from matplotlib import rcParams\n",
    "from matplotlib import font_manager\n",
    "import numpy as np\n",
    "\n",
    "%matplotlib inline"
   ]
  },
  {
   "cell_type": "code",
   "execution_count": null,
   "metadata": {},
   "outputs": [],
   "source": [
    "# resource configuration\n",
    "rcParams['figure.dpi'] = 150\n",
    "rcParams['savefig.dpi'] = 300\n",
    "# fount information\n",
    "rcParams['font.family'] = 'Equinor'\n",
    "rcParams['font.size'] = 8\n",
    "\n",
    "# fornt location\n",
    "font_path = r'Equinor_regular'\n",
    "font_files = font_manager.findSystemFonts(fontpaths=font_path)\n",
    "\n",
    "for font_file in font_files:\n",
    "    font_manager.fontManager.addfont(font_file)"
   ]
  },
  {
   "cell_type": "code",
   "execution_count": null,
   "metadata": {},
   "outputs": [],
   "source": []
  },
  {
   "cell_type": "code",
   "execution_count": 45,
   "metadata": {},
   "outputs": [],
   "source": [
    "# where WellClass and Ga[ codes are located\n",
    "sys.path.append('../')"
   ]
  },
  {
   "cell_type": "code",
   "execution_count": 46,
   "metadata": {},
   "outputs": [],
   "source": [
    "# WellClass\n",
    "# from well_class_v2 import csv_parser, Well\n",
    "from src.WellClass.libs.utils import (\n",
    "    csv_parser,\n",
    "    yaml_parser\n",
    ")\n",
    "\n",
    "from src.WellClass.libs.well_class import Well\n",
    "from src.WellClass.libs.well_pressure import Pressure\n",
    "\n",
    "\n",
    "\n",
    "# plots\n",
    "from src.WellClass.libs.plotting import (\n",
    "    plot_pressure,\n",
    "    plot_pt,\n",
    "    plot_sketch,\n",
    "    plot_onepager\n",
    ")"
   ]
  },
  {
   "cell_type": "markdown",
   "metadata": {},
   "source": [
    "## Some user options"
   ]
  },
  {
   "cell_type": "code",
   "execution_count": 47,
   "metadata": {},
   "outputs": [],
   "source": [
    "# use yaml or csv input file\n",
    "use_yaml = True"
   ]
  },
  {
   "cell_type": "code",
   "execution_count": 48,
   "metadata": {},
   "outputs": [],
   "source": [
    "# pick an example from given three options\n",
    "\n",
    "case_type = 'wildcat'\n",
    "\n",
    "case_type = 'smeaheia_v1'\n",
    "\n",
    "# case_type = 'smeaheia_v2'"
   ]
  },
  {
   "cell_type": "code",
   "execution_count": 49,
   "metadata": {},
   "outputs": [],
   "source": [
    "# where pvt located\n",
    "pvt_path = '../src/WellClass/libs/pvt/pvt_constants/pure_co2'"
   ]
  },
  {
   "cell_type": "markdown",
   "metadata": {},
   "source": [
    "# Examples\n",
    "\n",
    "The following are the test examples."
   ]
  },
  {
   "cell_type": "code",
   "execution_count": 50,
   "metadata": {},
   "outputs": [],
   "source": [
    "# examples\n",
    "smeaheia_v1 = {'well_input': r'GaP_input_Smeaheia_v3.csv', \n",
    "               'well_input_yaml': r'smeaheia.yaml', \n",
    "            #    'sim_path': r'/scratch/SCS/eim/SMEAHEIA', \n",
    "               'sim_path': r'../test_data/examples/smeaheia_v1',\n",
    "               'simcase': r'GEN_NOLGR_PH2'}\n",
    "smeaheia_v2 = {'well_input': r'GaP_input_Smeaheia_v3.csv', \n",
    "               'well_input_yaml': r'smeaheia.yaml', \n",
    "            #    'sim_path': r'/scratch/SCS/bkh/wbook/realization-0/iter-0/pflotran/model', \n",
    "               'sim_path': r'../test_data/examples/smeaheia_v2', \n",
    "               'simcase': r'TEMP-0'}\n",
    "wildcat = {\n",
    "         'well_input': r'GaP_input_Wildcat_v3.csv', \n",
    "         'well_input_yaml': r'wildcat.yaml', \n",
    "        #  'sim_path': r'/scratch/SCS/bkh/well_class_test1/realization-0/iter-0/pflotran/model', \n",
    "         'sim_path': r'../test_data/examples/wildcat', \n",
    "         'simcase': r'TEMP-0'}"
   ]
  },
  {
   "cell_type": "code",
   "execution_count": 51,
   "metadata": {},
   "outputs": [],
   "source": [
    "examples = {\n",
    "    'smeaheia_v1': smeaheia_v1,\n",
    "    'smeaheia_v2': smeaheia_v2,\n",
    "    'wildcat': wildcat\n",
    "}"
   ]
  },
  {
   "cell_type": "markdown",
   "metadata": {},
   "source": [
    "# Load well CSV or yaml configuration file\n",
    "\n",
    "Process CSV with well class.\n",
    "Predefine a dictionary that includes the input CSV well file, the simulation path, and the PFT sim case name"
   ]
  },
  {
   "cell_type": "code",
   "execution_count": 52,
   "metadata": {},
   "outputs": [],
   "source": [
    "# the selected example for testing\n",
    "case = examples[case_type]\n"
   ]
  },
  {
   "cell_type": "code",
   "execution_count": 53,
   "metadata": {},
   "outputs": [],
   "source": [
    "\n",
    "# root_path = '/scratch/SCS/gpb/SCREEN/GaP_code'\n",
    "\n",
    "sim_path = case['sim_path']\n"
   ]
  },
  {
   "cell_type": "code",
   "execution_count": 54,
   "metadata": {},
   "outputs": [],
   "source": [
    "if use_yaml:\n",
    "    # where well configuration file is located\n",
    "    well_name = os.path.join(sim_path, case['well_input_yaml'])\n",
    "    \n",
    "    # # pydantic model\n",
    "    well_model = yaml_parser(well_name)\n",
    "    well_csv = json.loads(well_model.spec.model_dump_json())\n",
    "else:\n",
    "    # where well configuration file is located\n",
    "    well_name = os.path.join(sim_path, case['well_input'])\n",
    "\n",
    "    # load the well information\n",
    "    well_csv = csv_parser(well_name)"
   ]
  },
  {
   "cell_type": "code",
   "execution_count": 55,
   "metadata": {
    "scrolled": true
   },
   "outputs": [],
   "source": [
    "#Process well by running well class\n",
    "my_well = Well( header       = well_csv['well_header'], \n",
    "                drilling     = well_csv['drilling'],\n",
    "                casings      = well_csv['casing_cement'],\n",
    "                geology      = well_csv['geology'],\n",
    "                barriers     = well_csv['barriers'], \n",
    "                barrier_perm = well_csv['barrier_permeability'],\n",
    "                co2_datum    = well_csv['co2_datum'],\n",
    "           )"
   ]
  },
  {
   "cell_type": "markdown",
   "metadata": {},
   "source": [
    "## Generation of Pressure tables\n",
    "### 1. Minimum input: "
   ]
  },
  {
   "cell_type": "markdown",
   "metadata": {},
   "source": [
    "The pressure class can be initialized with a minimum of the following parameters:\n",
    "- Depth to seabed in mTVDMSL\n",
    "- Wellbore TD in mRKB\n",
    "- Wellbore RKB in mTVDMSL\n",
    "- Seafloor temperature in degC. Defaulted to 4 degC\n",
    "- Geothermal gradient in degC/km. Defaulted to 40 degC/km\n",
    "- Fluid type: This depends on the PVT tables available on pvtpath \n",
    "  - pure CO2, Components: 100% CO2\n",
    "  - pure C1, Components: 100% CH4\n",
    "  - mixture 1, Components: 96% CO2, 0.4% H, 1% Ar, 0.82% N, 1.78% CH4\n",
    "  - mixture 2, Components: 95% CO2, 5% CH4\n",
    "- Path to the PVT tables\n"
   ]
  },
  {
   "cell_type": "markdown",
   "metadata": {},
   "source": [
    "If depth of fluid contact is provided, by default Pressure class will calculate a pressure scenario with a hydrosatic gradient from the fluid contact to the surface"
   ]
  },
  {
   "cell_type": "code",
   "execution_count": 56,
   "metadata": {},
   "outputs": [
    {
     "name": "stdout",
     "output_type": "stream",
     "text": [
      "Computing pressure profile for scenario: hydrostatic\n"
     ]
    }
   ],
   "source": [
    "my_pressure = Pressure(sf_depth_msl=well_csv['well_header']['sf_depth_msl'],\n",
    "                       well_td_rkb=well_csv['well_header']['well_td_rkb'],\n",
    "                       well_rkb=well_csv['well_header']['well_rkb'],\n",
    "                       sf_temp=well_csv['well_header']['sf_temp'],\n",
    "                       geo_tgrad=well_csv['well_header']['geo_tgrad'],\n",
    "                       fluid_type='pure_co2',\n",
    "                       z_fluid_contact=well_csv['co2_datum'],\n",
    "                       pvt_path='../src/WellClass/libs/pvt/pvt_constants')"
   ]
  },
  {
   "cell_type": "code",
   "execution_count": 57,
   "metadata": {},
   "outputs": [
    {
     "data": {
      "text/html": [
       "<div>\n",
       "<style scoped>\n",
       "    .dataframe tbody tr th:only-of-type {\n",
       "        vertical-align: middle;\n",
       "    }\n",
       "\n",
       "    .dataframe tbody tr th {\n",
       "        vertical-align: top;\n",
       "    }\n",
       "\n",
       "    .dataframe thead th {\n",
       "        text-align: right;\n",
       "    }\n",
       "</style>\n",
       "<table border=\"1\" class=\"dataframe\">\n",
       "  <thead>\n",
       "    <tr style=\"text-align: right;\">\n",
       "      <th></th>\n",
       "      <th>name</th>\n",
       "      <th>from_resrvr</th>\n",
       "      <th>z_MSAD</th>\n",
       "      <th>p_MSAD</th>\n",
       "      <th>z_resrv</th>\n",
       "      <th>p_resrv</th>\n",
       "      <th>z_fluid_contact</th>\n",
       "      <th>p_fluid_contact</th>\n",
       "      <th>p_delta</th>\n",
       "      <th>fluid_type</th>\n",
       "      <th>fluid_composition</th>\n",
       "      <th>specific_gravity</th>\n",
       "    </tr>\n",
       "  </thead>\n",
       "  <tbody>\n",
       "    <tr>\n",
       "      <th>0</th>\n",
       "      <td>hydrostatic</td>\n",
       "      <td>True</td>\n",
       "      <td>552.053763</td>\n",
       "      <td>73.114595</td>\n",
       "      <td>1282.5</td>\n",
       "      <td>130.012627</td>\n",
       "      <td>1282.5</td>\n",
       "      <td>130.012627</td>\n",
       "      <td>0</td>\n",
       "      <td>pure_co2</td>\n",
       "      <td>100% CO2</td>\n",
       "      <td>None</td>\n",
       "    </tr>\n",
       "  </tbody>\n",
       "</table>\n",
       "</div>"
      ],
      "text/plain": [
       "          name  from_resrvr      z_MSAD     p_MSAD  z_resrv     p_resrv  \\\n",
       "0  hydrostatic         True  552.053763  73.114595   1282.5  130.012627   \n",
       "\n",
       "   z_fluid_contact  p_fluid_contact  p_delta fluid_type fluid_composition  \\\n",
       "0           1282.5       130.012627        0   pure_co2          100% CO2   \n",
       "\n",
       "  specific_gravity  \n",
       "0             None  "
      ]
     },
     "execution_count": 57,
     "metadata": {},
     "output_type": "execute_result"
    }
   ],
   "source": [
    "my_pressure.scenario_manager.get_scenarios_summary()"
   ]
  },
  {
   "cell_type": "markdown",
   "metadata": {},
   "source": [
    "If other fluid compostions want to be added and compared, the user can pick between pure CO2, mixture1, mixture2 or pure methane, or provide its own specific gravity"
   ]
  },
  {
   "cell_type": "code",
   "execution_count": 58,
   "metadata": {},
   "outputs": [
    {
     "name": "stdout",
     "output_type": "stream",
     "text": [
      "Computing pressure profile for scenario: mixture1\n",
      "Computing pressure profile for scenario: methane\n",
      "Computing pressure profile for scenario: sg_input\n"
     ]
    },
    {
     "data": {
      "text/html": [
       "<div>\n",
       "<style scoped>\n",
       "    .dataframe tbody tr th:only-of-type {\n",
       "        vertical-align: middle;\n",
       "    }\n",
       "\n",
       "    .dataframe tbody tr th {\n",
       "        vertical-align: top;\n",
       "    }\n",
       "\n",
       "    .dataframe thead th {\n",
       "        text-align: right;\n",
       "    }\n",
       "</style>\n",
       "<table border=\"1\" class=\"dataframe\">\n",
       "  <thead>\n",
       "    <tr style=\"text-align: right;\">\n",
       "      <th></th>\n",
       "      <th>name</th>\n",
       "      <th>from_resrvr</th>\n",
       "      <th>z_MSAD</th>\n",
       "      <th>p_MSAD</th>\n",
       "      <th>z_resrv</th>\n",
       "      <th>p_resrv</th>\n",
       "      <th>z_fluid_contact</th>\n",
       "      <th>p_fluid_contact</th>\n",
       "      <th>p_delta</th>\n",
       "      <th>fluid_type</th>\n",
       "      <th>fluid_composition</th>\n",
       "      <th>specific_gravity</th>\n",
       "    </tr>\n",
       "  </thead>\n",
       "  <tbody>\n",
       "    <tr>\n",
       "      <th>0</th>\n",
       "      <td>mixture1</td>\n",
       "      <td>True</td>\n",
       "      <td>569.885611</td>\n",
       "      <td>76.137093</td>\n",
       "      <td>1282.5</td>\n",
       "      <td>130.012627</td>\n",
       "      <td>1282.5</td>\n",
       "      <td>130.012627</td>\n",
       "      <td>0</td>\n",
       "      <td>mixture1</td>\n",
       "      <td>96% CO2, 0.4% H, 1% Ar, 0.82% N, 1.78% CH4</td>\n",
       "      <td>NaN</td>\n",
       "    </tr>\n",
       "    <tr>\n",
       "      <th>1</th>\n",
       "      <td>methane</td>\n",
       "      <td>True</td>\n",
       "      <td>863.913499</td>\n",
       "      <td>125.974820</td>\n",
       "      <td>1282.5</td>\n",
       "      <td>130.012627</td>\n",
       "      <td>1282.5</td>\n",
       "      <td>130.012627</td>\n",
       "      <td>0</td>\n",
       "      <td>methane</td>\n",
       "      <td>100% CH4</td>\n",
       "      <td>NaN</td>\n",
       "    </tr>\n",
       "    <tr>\n",
       "      <th>2</th>\n",
       "      <td>sg_input</td>\n",
       "      <td>True</td>\n",
       "      <td>804.825944</td>\n",
       "      <td>115.959480</td>\n",
       "      <td>1282.5</td>\n",
       "      <td>130.012627</td>\n",
       "      <td>1282.5</td>\n",
       "      <td>130.012627</td>\n",
       "      <td>0</td>\n",
       "      <td>None</td>\n",
       "      <td>None</td>\n",
       "      <td>0.3</td>\n",
       "    </tr>\n",
       "  </tbody>\n",
       "</table>\n",
       "</div>"
      ],
      "text/plain": [
       "       name  from_resrvr      z_MSAD      p_MSAD  z_resrv     p_resrv  \\\n",
       "0  mixture1         True  569.885611   76.137093   1282.5  130.012627   \n",
       "1   methane         True  863.913499  125.974820   1282.5  130.012627   \n",
       "2  sg_input         True  804.825944  115.959480   1282.5  130.012627   \n",
       "\n",
       "   z_fluid_contact  p_fluid_contact  p_delta fluid_type  \\\n",
       "0           1282.5       130.012627        0   mixture1   \n",
       "1           1282.5       130.012627        0    methane   \n",
       "2           1282.5       130.012627        0       None   \n",
       "\n",
       "                            fluid_composition  specific_gravity  \n",
       "0  96% CO2, 0.4% H, 1% Ar, 0.82% N, 1.78% CH4               NaN  \n",
       "1                                    100% CH4               NaN  \n",
       "2                                        None               0.3  "
      ]
     },
     "execution_count": 58,
     "metadata": {},
     "output_type": "execute_result"
    }
   ],
   "source": [
    "my_pressure = Pressure(sf_depth_msl=well_csv['well_header']['sf_depth_msl'],\n",
    "                       well_td_rkb=well_csv['well_header']['well_td_rkb'],\n",
    "                       well_rkb=well_csv['well_header']['well_rkb'],\n",
    "                       sf_temp=well_csv['well_header']['sf_temp'],\n",
    "                       geo_tgrad=well_csv['well_header']['geo_tgrad'],\n",
    "                       fluid_type='pure_co2',\n",
    "                       pvt_path='../src/WellClass/libs/pvt/pvt_constants')\n",
    "\n",
    "fluid_contact = well_csv['co2_datum']\n",
    "my_pressure.add_scenario(scenario_name='mixture1', fluid_type='mixture1', from_resrvr=True, z_fluid_contact=fluid_contact)\n",
    "my_pressure.add_scenario(scenario_name='methane', fluid_type='methane', from_resrvr=True, z_fluid_contact=fluid_contact)\n",
    "my_pressure.add_scenario(scenario_name='sg_input', fluid_type=None, from_resrvr=True, specific_gravity=300/1e3, z_fluid_contact=fluid_contact)\n",
    "\n",
    "my_pressure.scenario_manager.get_scenarios_summary()"
   ]
  },
  {
   "cell_type": "markdown",
   "metadata": {},
   "source": [
    "If simple input scenarios are provided in the input_scenarios argument, these will be computed"
   ]
  },
  {
   "cell_type": "code",
   "execution_count": 59,
   "metadata": {},
   "outputs": [
    {
     "name": "stdout",
     "output_type": "stream",
     "text": [
      "Computing pressure profile for scenario: RP1\n",
      "Computing pressure profile for scenario: RP2\n",
      "Computing pressure profile for scenario: RP3\n"
     ]
    },
    {
     "data": {
      "text/html": [
       "<div>\n",
       "<style scoped>\n",
       "    .dataframe tbody tr th:only-of-type {\n",
       "        vertical-align: middle;\n",
       "    }\n",
       "\n",
       "    .dataframe tbody tr th {\n",
       "        vertical-align: top;\n",
       "    }\n",
       "\n",
       "    .dataframe thead th {\n",
       "        text-align: right;\n",
       "    }\n",
       "</style>\n",
       "<table border=\"1\" class=\"dataframe\">\n",
       "  <thead>\n",
       "    <tr style=\"text-align: right;\">\n",
       "      <th></th>\n",
       "      <th>name</th>\n",
       "      <th>from_resrvr</th>\n",
       "      <th>z_MSAD</th>\n",
       "      <th>p_MSAD</th>\n",
       "      <th>z_resrv</th>\n",
       "      <th>p_resrv</th>\n",
       "      <th>z_fluid_contact</th>\n",
       "      <th>p_fluid_contact</th>\n",
       "      <th>p_delta</th>\n",
       "      <th>fluid_type</th>\n",
       "      <th>fluid_composition</th>\n",
       "      <th>specific_gravity</th>\n",
       "    </tr>\n",
       "  </thead>\n",
       "  <tbody>\n",
       "    <tr>\n",
       "      <th>0</th>\n",
       "      <td>RP1</td>\n",
       "      <td>True</td>\n",
       "      <td>552.053763</td>\n",
       "      <td>73.114595</td>\n",
       "      <td>1282.5</td>\n",
       "      <td>130.012627</td>\n",
       "      <td>1282.5</td>\n",
       "      <td>130.012627</td>\n",
       "      <td>0.0</td>\n",
       "      <td>pure_co2</td>\n",
       "      <td>100% CO2</td>\n",
       "      <td>None</td>\n",
       "    </tr>\n",
       "    <tr>\n",
       "      <th>1</th>\n",
       "      <td>RP2</td>\n",
       "      <td>True</td>\n",
       "      <td>NaN</td>\n",
       "      <td>NaN</td>\n",
       "      <td>1282.5</td>\n",
       "      <td>221.012627</td>\n",
       "      <td>1282.5</td>\n",
       "      <td>221.012627</td>\n",
       "      <td>91.0</td>\n",
       "      <td>pure_co2</td>\n",
       "      <td>100% CO2</td>\n",
       "      <td>None</td>\n",
       "    </tr>\n",
       "    <tr>\n",
       "      <th>2</th>\n",
       "      <td>RP3</td>\n",
       "      <td>True</td>\n",
       "      <td>764.080956</td>\n",
       "      <td>109.053204</td>\n",
       "      <td>1282.5</td>\n",
       "      <td>150.012627</td>\n",
       "      <td>1282.5</td>\n",
       "      <td>150.012627</td>\n",
       "      <td>20.0</td>\n",
       "      <td>pure_co2</td>\n",
       "      <td>100% CO2</td>\n",
       "      <td>None</td>\n",
       "    </tr>\n",
       "  </tbody>\n",
       "</table>\n",
       "</div>"
      ],
      "text/plain": [
       "  name  from_resrvr      z_MSAD      p_MSAD  z_resrv     p_resrv  \\\n",
       "0  RP1         True  552.053763   73.114595   1282.5  130.012627   \n",
       "1  RP2         True         NaN         NaN   1282.5  221.012627   \n",
       "2  RP3         True  764.080956  109.053204   1282.5  150.012627   \n",
       "\n",
       "   z_fluid_contact  p_fluid_contact  p_delta fluid_type fluid_composition  \\\n",
       "0           1282.5       130.012627      0.0   pure_co2          100% CO2   \n",
       "1           1282.5       221.012627     91.0   pure_co2          100% CO2   \n",
       "2           1282.5       150.012627     20.0   pure_co2          100% CO2   \n",
       "\n",
       "  specific_gravity  \n",
       "0             None  \n",
       "1             None  \n",
       "2             None  "
      ]
     },
     "execution_count": 59,
     "metadata": {},
     "output_type": "execute_result"
    }
   ],
   "source": [
    "my_pressure = Pressure(sf_depth_msl=well_csv['well_header']['sf_depth_msl'],\n",
    "                       well_td_rkb=well_csv['well_header']['well_td_rkb'],\n",
    "                       well_rkb=well_csv['well_header']['well_rkb'],\n",
    "                       sf_temp=well_csv['well_header']['sf_temp'],\n",
    "                       geo_tgrad=well_csv['well_header']['geo_tgrad'],\n",
    "                       fluid_type='pure_co2',\n",
    "                       input_scenarios=well_csv['reservoir_pressure'],\n",
    "                       z_fluid_contact=well_csv['co2_datum'],\n",
    "                       pvt_path='../src/WellClass/libs/pvt/pvt_constants')\n",
    "\n",
    "my_pressure.scenario_manager.get_scenarios_summary()"
   ]
  },
  {
   "cell_type": "markdown",
   "metadata": {},
   "source": [
    "### 2. Create a pressure scenario"
   ]
  },
  {
   "cell_type": "markdown",
   "metadata": {},
   "source": [
    "Create a pressure scenario providing only the **MSAD** (the `from_resrv` flag has to be False )"
   ]
  },
  {
   "cell_type": "code",
   "execution_count": 60,
   "metadata": {},
   "outputs": [
    {
     "name": "stdout",
     "output_type": "stream",
     "text": [
      "Computing pressure profile for scenario: plug\n",
      "Lines do not intersect\n"
     ]
    }
   ],
   "source": [
    "my_pressure = Pressure(sf_depth_msl=well_csv['well_header']['sf_depth_msl'],\n",
    "                       well_td_rkb=well_csv['well_header']['well_td_rkb'],\n",
    "                       well_rkb=well_csv['well_header']['well_rkb'],\n",
    "                       sf_temp=well_csv['well_header']['sf_temp'],\n",
    "                       geo_tgrad=well_csv['well_header']['geo_tgrad'],\n",
    "                       fluid_type='pure_co2',\n",
    "                       default_hs_scenario=False,\n",
    "                    #    z_fluid_contact=1300,\n",
    "                       pvt_path='../src/WellClass/libs/pvt/pvt_constants')\n",
    "\n",
    "my_pressure.add_scenario(scenario_name='plug', from_resrvr=False, z_MSAD = 500, z_fluid_contact = 1300)\n",
    "\n"
   ]
  },
  {
   "cell_type": "code",
   "execution_count": 61,
   "metadata": {},
   "outputs": [
    {
     "data": {
      "text/html": [
       "<div>\n",
       "<style scoped>\n",
       "    .dataframe tbody tr th:only-of-type {\n",
       "        vertical-align: middle;\n",
       "    }\n",
       "\n",
       "    .dataframe tbody tr th {\n",
       "        vertical-align: top;\n",
       "    }\n",
       "\n",
       "    .dataframe thead th {\n",
       "        text-align: right;\n",
       "    }\n",
       "</style>\n",
       "<table border=\"1\" class=\"dataframe\">\n",
       "  <thead>\n",
       "    <tr style=\"text-align: right;\">\n",
       "      <th></th>\n",
       "      <th>name</th>\n",
       "      <th>from_resrvr</th>\n",
       "      <th>z_MSAD</th>\n",
       "      <th>p_MSAD</th>\n",
       "      <th>z_resrv</th>\n",
       "      <th>p_resrv</th>\n",
       "      <th>z_fluid_contact</th>\n",
       "      <th>p_fluid_contact</th>\n",
       "      <th>p_delta</th>\n",
       "      <th>fluid_type</th>\n",
       "      <th>fluid_composition</th>\n",
       "      <th>specific_gravity</th>\n",
       "    </tr>\n",
       "  </thead>\n",
       "  <tbody>\n",
       "    <tr>\n",
       "      <th>0</th>\n",
       "      <td>plug</td>\n",
       "      <td>False</td>\n",
       "      <td>500</td>\n",
       "      <td>64.291482</td>\n",
       "      <td>1300</td>\n",
       "      <td>126.145786</td>\n",
       "      <td>1300</td>\n",
       "      <td>126.145786</td>\n",
       "      <td>-5.618736</td>\n",
       "      <td>pure_co2</td>\n",
       "      <td>100% CO2</td>\n",
       "      <td>None</td>\n",
       "    </tr>\n",
       "  </tbody>\n",
       "</table>\n",
       "</div>"
      ],
      "text/plain": [
       "   name  from_resrvr  z_MSAD     p_MSAD  z_resrv     p_resrv  z_fluid_contact  \\\n",
       "0  plug        False     500  64.291482     1300  126.145786             1300   \n",
       "\n",
       "   p_fluid_contact   p_delta fluid_type fluid_composition specific_gravity  \n",
       "0       126.145786 -5.618736   pure_co2          100% CO2             None  "
      ]
     },
     "execution_count": 61,
     "metadata": {},
     "output_type": "execute_result"
    }
   ],
   "source": [
    "my_pressure.scenario_manager.get_scenarios_summary()"
   ]
  },
  {
   "cell_type": "markdown",
   "metadata": {},
   "source": [
    "Create a pressure scenario providing only the **delta Pressure +/-** and depth **fluid_contact**. The code assumes the reservoir depth is the same as the `co2_datum` (the `from_resrv` flag has to be True )"
   ]
  },
  {
   "cell_type": "code",
   "execution_count": 62,
   "metadata": {},
   "outputs": [
    {
     "name": "stdout",
     "output_type": "stream",
     "text": [
      "Computing pressure profile for scenario: test1\n"
     ]
    },
    {
     "data": {
      "text/html": [
       "<div>\n",
       "<style scoped>\n",
       "    .dataframe tbody tr th:only-of-type {\n",
       "        vertical-align: middle;\n",
       "    }\n",
       "\n",
       "    .dataframe tbody tr th {\n",
       "        vertical-align: top;\n",
       "    }\n",
       "\n",
       "    .dataframe thead th {\n",
       "        text-align: right;\n",
       "    }\n",
       "</style>\n",
       "<table border=\"1\" class=\"dataframe\">\n",
       "  <thead>\n",
       "    <tr style=\"text-align: right;\">\n",
       "      <th></th>\n",
       "      <th>name</th>\n",
       "      <th>from_resrvr</th>\n",
       "      <th>z_MSAD</th>\n",
       "      <th>p_MSAD</th>\n",
       "      <th>z_resrv</th>\n",
       "      <th>p_resrv</th>\n",
       "      <th>z_fluid_contact</th>\n",
       "      <th>p_fluid_contact</th>\n",
       "      <th>p_delta</th>\n",
       "      <th>fluid_type</th>\n",
       "      <th>fluid_composition</th>\n",
       "      <th>specific_gravity</th>\n",
       "    </tr>\n",
       "  </thead>\n",
       "  <tbody>\n",
       "    <tr>\n",
       "      <th>0</th>\n",
       "      <td>test1</td>\n",
       "      <td>True</td>\n",
       "      <td>818.220032</td>\n",
       "      <td>118.229778</td>\n",
       "      <td>1282.5</td>\n",
       "      <td>155.012627</td>\n",
       "      <td>1282.5</td>\n",
       "      <td>155.012627</td>\n",
       "      <td>25</td>\n",
       "      <td>pure_co2</td>\n",
       "      <td>100% CO2</td>\n",
       "      <td>None</td>\n",
       "    </tr>\n",
       "  </tbody>\n",
       "</table>\n",
       "</div>"
      ],
      "text/plain": [
       "    name  from_resrvr      z_MSAD      p_MSAD  z_resrv     p_resrv  \\\n",
       "0  test1         True  818.220032  118.229778   1282.5  155.012627   \n",
       "\n",
       "   z_fluid_contact  p_fluid_contact  p_delta fluid_type fluid_composition  \\\n",
       "0           1282.5       155.012627       25   pure_co2          100% CO2   \n",
       "\n",
       "  specific_gravity  \n",
       "0             None  "
      ]
     },
     "execution_count": 62,
     "metadata": {},
     "output_type": "execute_result"
    }
   ],
   "source": [
    "my_pressure = Pressure(sf_depth_msl=well_csv['well_header']['sf_depth_msl'],\n",
    "                       well_td_rkb=well_csv['well_header']['well_td_rkb'],\n",
    "                       well_rkb=well_csv['well_header']['well_rkb'],\n",
    "                       sf_temp=well_csv['well_header']['sf_temp'],\n",
    "                       geo_tgrad=well_csv['well_header']['geo_tgrad'],\n",
    "                       fluid_type='pure_co2',\n",
    "                       default_hs_scenario=False,\n",
    "                    #    z_fluid_contact=1300,\n",
    "                       pvt_path='../src/WellClass/libs/pvt/pvt_constants',\n",
    "                     #   shmin_gradient=0.1855\n",
    "                       )\n",
    "\n",
    "my_pressure.add_scenario(scenario_name='test1', from_resrvr=True, p_delta = 25, z_fluid_contact = my_well.co2_datum)\n",
    "\n",
    "my_pressure.scenario_manager.get_scenarios_summary()"
   ]
  },
  {
   "cell_type": "code",
   "execution_count": 63,
   "metadata": {},
   "outputs": [
    {
     "name": "stdout",
     "output_type": "stream",
     "text": [
      "Computing pressure profile for scenario: test1\n"
     ]
    },
    {
     "data": {
      "text/html": [
       "<div>\n",
       "<style scoped>\n",
       "    .dataframe tbody tr th:only-of-type {\n",
       "        vertical-align: middle;\n",
       "    }\n",
       "\n",
       "    .dataframe tbody tr th {\n",
       "        vertical-align: top;\n",
       "    }\n",
       "\n",
       "    .dataframe thead th {\n",
       "        text-align: right;\n",
       "    }\n",
       "</style>\n",
       "<table border=\"1\" class=\"dataframe\">\n",
       "  <thead>\n",
       "    <tr style=\"text-align: right;\">\n",
       "      <th></th>\n",
       "      <th>name</th>\n",
       "      <th>from_resrvr</th>\n",
       "      <th>z_MSAD</th>\n",
       "      <th>p_MSAD</th>\n",
       "      <th>z_resrv</th>\n",
       "      <th>p_resrv</th>\n",
       "      <th>z_fluid_contact</th>\n",
       "      <th>p_fluid_contact</th>\n",
       "      <th>p_delta</th>\n",
       "      <th>fluid_type</th>\n",
       "      <th>fluid_composition</th>\n",
       "      <th>specific_gravity</th>\n",
       "    </tr>\n",
       "  </thead>\n",
       "  <tbody>\n",
       "    <tr>\n",
       "      <th>0</th>\n",
       "      <td>test1</td>\n",
       "      <td>True</td>\n",
       "      <td>738.505548</td>\n",
       "      <td>111.542261</td>\n",
       "      <td>1282.5</td>\n",
       "      <td>155.012627</td>\n",
       "      <td>1282.5</td>\n",
       "      <td>155.012627</td>\n",
       "      <td>25</td>\n",
       "      <td>pure_co2</td>\n",
       "      <td>100% CO2</td>\n",
       "      <td>None</td>\n",
       "    </tr>\n",
       "  </tbody>\n",
       "</table>\n",
       "</div>"
      ],
      "text/plain": [
       "    name  from_resrvr      z_MSAD      p_MSAD  z_resrv     p_resrv  \\\n",
       "0  test1         True  738.505548  111.542261   1282.5  155.012627   \n",
       "\n",
       "   z_fluid_contact  p_fluid_contact  p_delta fluid_type fluid_composition  \\\n",
       "0           1282.5       155.012627       25   pure_co2          100% CO2   \n",
       "\n",
       "  specific_gravity  \n",
       "0             None  "
      ]
     },
     "execution_count": 63,
     "metadata": {},
     "output_type": "execute_result"
    }
   ],
   "source": [
    "my_pressure = Pressure(sf_depth_msl=well_csv['well_header']['sf_depth_msl'],\n",
    "                       well_td_rkb=well_csv['well_header']['well_td_rkb'],\n",
    "                       well_rkb=well_csv['well_header']['well_rkb'],\n",
    "                       sf_temp=well_csv['well_header']['sf_temp'],\n",
    "                       geo_tgrad=well_csv['well_header']['geo_tgrad'],\n",
    "                       fluid_type='pure_co2',\n",
    "                       default_hs_scenario=False,\n",
    "                    #    z_fluid_contact=1300,\n",
    "                       pvt_path='../src/WellClass/libs/pvt/pvt_constants',\n",
    "                       shmin_gradient=0.1855\n",
    "                       )\n",
    "\n",
    "my_pressure.add_scenario(scenario_name='test1', from_resrvr=True, p_delta = 25, z_fluid_contact = my_well.co2_datum)\n",
    "\n",
    "my_pressure.scenario_manager.get_scenarios_summary()"
   ]
  },
  {
   "cell_type": "markdown",
   "metadata": {},
   "source": [
    "Create a pressure scenario providing only the **delta Pressure +/-** at reservoir and the reservoir depth (the `from_resrv` flag has to be True )"
   ]
  },
  {
   "cell_type": "code",
   "execution_count": 64,
   "metadata": {},
   "outputs": [
    {
     "name": "stdout",
     "output_type": "stream",
     "text": [
      "Computing pressure profile for scenario: test2\n"
     ]
    },
    {
     "data": {
      "text/html": [
       "<div>\n",
       "<style scoped>\n",
       "    .dataframe tbody tr th:only-of-type {\n",
       "        vertical-align: middle;\n",
       "    }\n",
       "\n",
       "    .dataframe tbody tr th {\n",
       "        vertical-align: top;\n",
       "    }\n",
       "\n",
       "    .dataframe thead th {\n",
       "        text-align: right;\n",
       "    }\n",
       "</style>\n",
       "<table border=\"1\" class=\"dataframe\">\n",
       "  <thead>\n",
       "    <tr style=\"text-align: right;\">\n",
       "      <th></th>\n",
       "      <th>name</th>\n",
       "      <th>from_resrvr</th>\n",
       "      <th>z_MSAD</th>\n",
       "      <th>p_MSAD</th>\n",
       "      <th>z_resrv</th>\n",
       "      <th>p_resrv</th>\n",
       "      <th>z_fluid_contact</th>\n",
       "      <th>p_fluid_contact</th>\n",
       "      <th>p_delta</th>\n",
       "      <th>fluid_type</th>\n",
       "      <th>fluid_composition</th>\n",
       "      <th>specific_gravity</th>\n",
       "    </tr>\n",
       "  </thead>\n",
       "  <tbody>\n",
       "    <tr>\n",
       "      <th>0</th>\n",
       "      <td>test1</td>\n",
       "      <td>True</td>\n",
       "      <td>738.505548</td>\n",
       "      <td>111.542261</td>\n",
       "      <td>1282.5</td>\n",
       "      <td>155.012627</td>\n",
       "      <td>1282.5</td>\n",
       "      <td>155.012627</td>\n",
       "      <td>25</td>\n",
       "      <td>pure_co2</td>\n",
       "      <td>100% CO2</td>\n",
       "      <td>None</td>\n",
       "    </tr>\n",
       "    <tr>\n",
       "      <th>1</th>\n",
       "      <td>test2</td>\n",
       "      <td>True</td>\n",
       "      <td>602.108974</td>\n",
       "      <td>86.240697</td>\n",
       "      <td>1180.0</td>\n",
       "      <td>132.477676</td>\n",
       "      <td>1282.5</td>\n",
       "      <td>140.012627</td>\n",
       "      <td>10</td>\n",
       "      <td>pure_co2</td>\n",
       "      <td>100% CO2</td>\n",
       "      <td>None</td>\n",
       "    </tr>\n",
       "  </tbody>\n",
       "</table>\n",
       "</div>"
      ],
      "text/plain": [
       "    name  from_resrvr      z_MSAD      p_MSAD  z_resrv     p_resrv  \\\n",
       "0  test1         True  738.505548  111.542261   1282.5  155.012627   \n",
       "1  test2         True  602.108974   86.240697   1180.0  132.477676   \n",
       "\n",
       "   z_fluid_contact  p_fluid_contact  p_delta fluid_type fluid_composition  \\\n",
       "0           1282.5       155.012627       25   pure_co2          100% CO2   \n",
       "1           1282.5       140.012627       10   pure_co2          100% CO2   \n",
       "\n",
       "  specific_gravity  \n",
       "0             None  \n",
       "1             None  "
      ]
     },
     "execution_count": 64,
     "metadata": {},
     "output_type": "execute_result"
    }
   ],
   "source": [
    "my_pressure.add_scenario(scenario_name='test2', from_resrvr=True, p_delta = 10, z_resrv=1180, z_fluid_contact = my_well.co2_datum)\n",
    "\n",
    "my_pressure.scenario_manager.get_scenarios_summary()"
   ]
  },
  {
   "cell_type": "markdown",
   "metadata": {},
   "source": [
    "Create a pressure scenario providing a pressure measurement (value) and its correspoinding depth (the `from_resrv` flag has to be True )"
   ]
  },
  {
   "cell_type": "code",
   "execution_count": 65,
   "metadata": {},
   "outputs": [
    {
     "name": "stdout",
     "output_type": "stream",
     "text": [
      "Computing pressure profile for scenario: test3\n",
      "self.z_fluid_contact=None\n"
     ]
    },
    {
     "data": {
      "text/html": [
       "<div>\n",
       "<style scoped>\n",
       "    .dataframe tbody tr th:only-of-type {\n",
       "        vertical-align: middle;\n",
       "    }\n",
       "\n",
       "    .dataframe tbody tr th {\n",
       "        vertical-align: top;\n",
       "    }\n",
       "\n",
       "    .dataframe thead th {\n",
       "        text-align: right;\n",
       "    }\n",
       "</style>\n",
       "<table border=\"1\" class=\"dataframe\">\n",
       "  <thead>\n",
       "    <tr style=\"text-align: right;\">\n",
       "      <th></th>\n",
       "      <th>name</th>\n",
       "      <th>from_resrvr</th>\n",
       "      <th>z_MSAD</th>\n",
       "      <th>p_MSAD</th>\n",
       "      <th>z_resrv</th>\n",
       "      <th>p_resrv</th>\n",
       "      <th>z_fluid_contact</th>\n",
       "      <th>p_fluid_contact</th>\n",
       "      <th>p_delta</th>\n",
       "      <th>fluid_type</th>\n",
       "      <th>fluid_composition</th>\n",
       "      <th>specific_gravity</th>\n",
       "    </tr>\n",
       "  </thead>\n",
       "  <tbody>\n",
       "    <tr>\n",
       "      <th>0</th>\n",
       "      <td>test1</td>\n",
       "      <td>True</td>\n",
       "      <td>738.505548</td>\n",
       "      <td>111.542261</td>\n",
       "      <td>1282.5</td>\n",
       "      <td>155.012627</td>\n",
       "      <td>1282.5</td>\n",
       "      <td>155.012627</td>\n",
       "      <td>25.000000</td>\n",
       "      <td>pure_co2</td>\n",
       "      <td>100% CO2</td>\n",
       "      <td>None</td>\n",
       "    </tr>\n",
       "    <tr>\n",
       "      <th>1</th>\n",
       "      <td>test2</td>\n",
       "      <td>True</td>\n",
       "      <td>602.108974</td>\n",
       "      <td>86.240697</td>\n",
       "      <td>1180.0</td>\n",
       "      <td>132.477676</td>\n",
       "      <td>1282.5</td>\n",
       "      <td>140.012627</td>\n",
       "      <td>10.000000</td>\n",
       "      <td>pure_co2</td>\n",
       "      <td>100% CO2</td>\n",
       "      <td>None</td>\n",
       "    </tr>\n",
       "    <tr>\n",
       "      <th>2</th>\n",
       "      <td>test3</td>\n",
       "      <td>True</td>\n",
       "      <td>NaN</td>\n",
       "      <td>NaN</td>\n",
       "      <td>1100.0</td>\n",
       "      <td>200.000000</td>\n",
       "      <td>1100.0</td>\n",
       "      <td>200.000000</td>\n",
       "      <td>88.280409</td>\n",
       "      <td>pure_co2</td>\n",
       "      <td>100% CO2</td>\n",
       "      <td>None</td>\n",
       "    </tr>\n",
       "  </tbody>\n",
       "</table>\n",
       "</div>"
      ],
      "text/plain": [
       "    name  from_resrvr      z_MSAD      p_MSAD  z_resrv     p_resrv  \\\n",
       "0  test1         True  738.505548  111.542261   1282.5  155.012627   \n",
       "1  test2         True  602.108974   86.240697   1180.0  132.477676   \n",
       "2  test3         True         NaN         NaN   1100.0  200.000000   \n",
       "\n",
       "   z_fluid_contact  p_fluid_contact    p_delta fluid_type fluid_composition  \\\n",
       "0           1282.5       155.012627  25.000000   pure_co2          100% CO2   \n",
       "1           1282.5       140.012627  10.000000   pure_co2          100% CO2   \n",
       "2           1100.0       200.000000  88.280409   pure_co2          100% CO2   \n",
       "\n",
       "  specific_gravity  \n",
       "0             None  \n",
       "1             None  \n",
       "2             None  "
      ]
     },
     "execution_count": 65,
     "metadata": {},
     "output_type": "execute_result"
    }
   ],
   "source": [
    "my_pressure.add_scenario(scenario_name='test3', from_resrvr=True, z_resrv=1100, p_resrv=200)\n",
    "\n",
    "my_pressure.scenario_manager.get_scenarios_summary()\n"
   ]
  },
  {
   "cell_type": "code",
   "execution_count": 66,
   "metadata": {},
   "outputs": [
    {
     "data": {
      "text/html": [
       "<div>\n",
       "<style scoped>\n",
       "    .dataframe tbody tr th:only-of-type {\n",
       "        vertical-align: middle;\n",
       "    }\n",
       "\n",
       "    .dataframe tbody tr th {\n",
       "        vertical-align: top;\n",
       "    }\n",
       "\n",
       "    .dataframe thead th {\n",
       "        text-align: right;\n",
       "    }\n",
       "</style>\n",
       "<table border=\"1\" class=\"dataframe\">\n",
       "  <thead>\n",
       "    <tr style=\"text-align: right;\">\n",
       "      <th></th>\n",
       "      <th>depth</th>\n",
       "      <th>temperature</th>\n",
       "      <th>hydrostatic_pressure</th>\n",
       "      <th>min_horizontal_stress</th>\n",
       "      <th>fluid_pressure</th>\n",
       "      <th>brine_pressure</th>\n",
       "    </tr>\n",
       "  </thead>\n",
       "  <tbody>\n",
       "    <tr>\n",
       "      <th>0</th>\n",
       "      <td>0.0</td>\n",
       "      <td>4.00</td>\n",
       "      <td>1.013250</td>\n",
       "      <td>1.013250</td>\n",
       "      <td>99.718773</td>\n",
       "      <td>88.848315</td>\n",
       "    </tr>\n",
       "    <tr>\n",
       "      <th>1</th>\n",
       "      <td>1.0</td>\n",
       "      <td>4.00</td>\n",
       "      <td>1.113848</td>\n",
       "      <td>1.113848</td>\n",
       "      <td>99.812273</td>\n",
       "      <td>88.949342</td>\n",
       "    </tr>\n",
       "    <tr>\n",
       "      <th>2</th>\n",
       "      <td>2.0</td>\n",
       "      <td>4.00</td>\n",
       "      <td>1.214446</td>\n",
       "      <td>1.214446</td>\n",
       "      <td>99.905785</td>\n",
       "      <td>89.050369</td>\n",
       "    </tr>\n",
       "    <tr>\n",
       "      <th>3</th>\n",
       "      <td>3.0</td>\n",
       "      <td>4.00</td>\n",
       "      <td>1.315045</td>\n",
       "      <td>1.315045</td>\n",
       "      <td>99.999309</td>\n",
       "      <td>89.151397</td>\n",
       "    </tr>\n",
       "    <tr>\n",
       "      <th>4</th>\n",
       "      <td>4.0</td>\n",
       "      <td>4.00</td>\n",
       "      <td>1.415644</td>\n",
       "      <td>1.415644</td>\n",
       "      <td>100.092844</td>\n",
       "      <td>89.252425</td>\n",
       "    </tr>\n",
       "    <tr>\n",
       "      <th>...</th>\n",
       "      <td>...</td>\n",
       "      <td>...</td>\n",
       "      <td>...</td>\n",
       "      <td>...</td>\n",
       "      <td>...</td>\n",
       "      <td>...</td>\n",
       "    </tr>\n",
       "    <tr>\n",
       "      <th>3657</th>\n",
       "      <td>3657.0</td>\n",
       "      <td>137.80</td>\n",
       "      <td>362.425614</td>\n",
       "      <td>652.922982</td>\n",
       "      <td>NaN</td>\n",
       "      <td>451.620944</td>\n",
       "    </tr>\n",
       "    <tr>\n",
       "      <th>3658</th>\n",
       "      <td>3658.0</td>\n",
       "      <td>137.84</td>\n",
       "      <td>362.520693</td>\n",
       "      <td>653.108482</td>\n",
       "      <td>NaN</td>\n",
       "      <td>451.716200</td>\n",
       "    </tr>\n",
       "    <tr>\n",
       "      <th>3659</th>\n",
       "      <td>3659.0</td>\n",
       "      <td>137.88</td>\n",
       "      <td>362.615771</td>\n",
       "      <td>653.293982</td>\n",
       "      <td>NaN</td>\n",
       "      <td>451.811453</td>\n",
       "    </tr>\n",
       "    <tr>\n",
       "      <th>3660</th>\n",
       "      <td>3660.0</td>\n",
       "      <td>137.92</td>\n",
       "      <td>362.710845</td>\n",
       "      <td>653.479482</td>\n",
       "      <td>NaN</td>\n",
       "      <td>451.906702</td>\n",
       "    </tr>\n",
       "    <tr>\n",
       "      <th>3661</th>\n",
       "      <td>3661.0</td>\n",
       "      <td>137.96</td>\n",
       "      <td>362.805916</td>\n",
       "      <td>653.664982</td>\n",
       "      <td>NaN</td>\n",
       "      <td>452.001949</td>\n",
       "    </tr>\n",
       "  </tbody>\n",
       "</table>\n",
       "<p>3662 rows × 6 columns</p>\n",
       "</div>"
      ],
      "text/plain": [
       "       depth  temperature  hydrostatic_pressure  min_horizontal_stress  \\\n",
       "0        0.0         4.00              1.013250               1.013250   \n",
       "1        1.0         4.00              1.113848               1.113848   \n",
       "2        2.0         4.00              1.214446               1.214446   \n",
       "3        3.0         4.00              1.315045               1.315045   \n",
       "4        4.0         4.00              1.415644               1.415644   \n",
       "...      ...          ...                   ...                    ...   \n",
       "3657  3657.0       137.80            362.425614             652.922982   \n",
       "3658  3658.0       137.84            362.520693             653.108482   \n",
       "3659  3659.0       137.88            362.615771             653.293982   \n",
       "3660  3660.0       137.92            362.710845             653.479482   \n",
       "3661  3661.0       137.96            362.805916             653.664982   \n",
       "\n",
       "      fluid_pressure  brine_pressure  \n",
       "0          99.718773       88.848315  \n",
       "1          99.812273       88.949342  \n",
       "2          99.905785       89.050369  \n",
       "3          99.999309       89.151397  \n",
       "4         100.092844       89.252425  \n",
       "...              ...             ...  \n",
       "3657             NaN      451.620944  \n",
       "3658             NaN      451.716200  \n",
       "3659             NaN      451.811453  \n",
       "3660             NaN      451.906702  \n",
       "3661             NaN      452.001949  \n",
       "\n",
       "[3662 rows x 6 columns]"
      ]
     },
     "execution_count": 66,
     "metadata": {},
     "output_type": "execute_result"
    }
   ],
   "source": [
    "my_pressure.scenario_manager.scenarios['test3'].init_curves"
   ]
  },
  {
   "cell_type": "markdown",
   "metadata": {},
   "source": [
    "# Visualization"
   ]
  },
  {
   "cell_type": "code",
   "execution_count": 89,
   "metadata": {},
   "outputs": [
    {
     "data": {
      "text/html": [
       "<div>\n",
       "<style scoped>\n",
       "    .dataframe tbody tr th:only-of-type {\n",
       "        vertical-align: middle;\n",
       "    }\n",
       "\n",
       "    .dataframe tbody tr th {\n",
       "        vertical-align: top;\n",
       "    }\n",
       "\n",
       "    .dataframe thead th {\n",
       "        text-align: right;\n",
       "    }\n",
       "</style>\n",
       "<table border=\"1\" class=\"dataframe\">\n",
       "  <thead>\n",
       "    <tr style=\"text-align: right;\">\n",
       "      <th></th>\n",
       "      <th>name</th>\n",
       "      <th>from_resrvr</th>\n",
       "      <th>z_MSAD</th>\n",
       "      <th>p_MSAD</th>\n",
       "      <th>z_resrv</th>\n",
       "      <th>p_resrv</th>\n",
       "      <th>z_fluid_contact</th>\n",
       "      <th>p_fluid_contact</th>\n",
       "      <th>p_delta</th>\n",
       "      <th>fluid_type</th>\n",
       "      <th>fluid_composition</th>\n",
       "      <th>specific_gravity</th>\n",
       "    </tr>\n",
       "  </thead>\n",
       "  <tbody>\n",
       "    <tr>\n",
       "      <th>0</th>\n",
       "      <td>test1</td>\n",
       "      <td>True</td>\n",
       "      <td>738.505548</td>\n",
       "      <td>111.542261</td>\n",
       "      <td>1282.5</td>\n",
       "      <td>155.012627</td>\n",
       "      <td>1282.5</td>\n",
       "      <td>155.012627</td>\n",
       "      <td>25.000000</td>\n",
       "      <td>pure_co2</td>\n",
       "      <td>100% CO2</td>\n",
       "      <td>None</td>\n",
       "    </tr>\n",
       "    <tr>\n",
       "      <th>1</th>\n",
       "      <td>test2</td>\n",
       "      <td>True</td>\n",
       "      <td>602.108974</td>\n",
       "      <td>86.240697</td>\n",
       "      <td>1180.0</td>\n",
       "      <td>132.477676</td>\n",
       "      <td>1282.5</td>\n",
       "      <td>140.012627</td>\n",
       "      <td>10.000000</td>\n",
       "      <td>pure_co2</td>\n",
       "      <td>100% CO2</td>\n",
       "      <td>None</td>\n",
       "    </tr>\n",
       "    <tr>\n",
       "      <th>2</th>\n",
       "      <td>test3</td>\n",
       "      <td>True</td>\n",
       "      <td>NaN</td>\n",
       "      <td>NaN</td>\n",
       "      <td>1100.0</td>\n",
       "      <td>200.000000</td>\n",
       "      <td>1100.0</td>\n",
       "      <td>200.000000</td>\n",
       "      <td>88.280409</td>\n",
       "      <td>pure_co2</td>\n",
       "      <td>100% CO2</td>\n",
       "      <td>None</td>\n",
       "    </tr>\n",
       "  </tbody>\n",
       "</table>\n",
       "</div>"
      ],
      "text/plain": [
       "    name  from_resrvr      z_MSAD      p_MSAD  z_resrv     p_resrv  \\\n",
       "0  test1         True  738.505548  111.542261   1282.5  155.012627   \n",
       "1  test2         True  602.108974   86.240697   1180.0  132.477676   \n",
       "2  test3         True         NaN         NaN   1100.0  200.000000   \n",
       "\n",
       "   z_fluid_contact  p_fluid_contact    p_delta fluid_type fluid_composition  \\\n",
       "0           1282.5       155.012627  25.000000   pure_co2          100% CO2   \n",
       "1           1282.5       140.012627  10.000000   pure_co2          100% CO2   \n",
       "2           1100.0       200.000000  88.280409   pure_co2          100% CO2   \n",
       "\n",
       "  specific_gravity  \n",
       "0             None  \n",
       "1             None  \n",
       "2             None  "
      ]
     },
     "metadata": {},
     "output_type": "display_data"
    },
    {
     "name": "stdout",
     "output_type": "stream",
     "text": [
      "Figure saved as test.png\n"
     ]
    },
    {
     "data": {
      "image/png": "[encoded data removed]",
      "text/plain": [
       "<Figure size 1536x1100 with 2 Axes>"
      ]
     },
     "metadata": {},
     "output_type": "display_data"
    }
   ],
   "source": [
    "fig, axs= plot_onepager( my_well, my_pressure, plot_MSAD=True, plot_HSP=True, save_fig=True, fname='test.png')\n"
   ]
  },
  {
   "cell_type": "code",
   "execution_count": 76,
   "metadata": {},
   "outputs": [
    {
     "data": {
      "text/plain": [
       "8.0"
      ]
     },
     "execution_count": 76,
     "metadata": {},
     "output_type": "execute_result"
    }
   ],
   "source": [
    "rcParams['font.size']"
   ]
  },
  {
   "cell_type": "markdown",
   "metadata": {},
   "source": [
    "# CO2 Leakage"
   ]
  },
  {
   "cell_type": "code",
   "execution_count": 68,
   "metadata": {},
   "outputs": [
    {
     "data": {
      "text/plain": [
       "'cplug9'"
      ]
     },
     "execution_count": 68,
     "metadata": {},
     "output_type": "execute_result"
    }
   ],
   "source": [
    "# pick one barrier\n",
    "main_barrier = well_csv['main_barrier']\n",
    "main_barrier"
   ]
  },
  {
   "cell_type": "code",
   "execution_count": 69,
   "metadata": {},
   "outputs": [
    {
     "data": {
      "text/plain": [
       "{'quality': ['good', 'mid', 'poor'], 'kv': [0.01, 10, 1000.0]}"
      ]
     },
     "execution_count": 69,
     "metadata": {},
     "output_type": "execute_result"
    }
   ],
   "source": [
    "my_well.barrier_perm"
   ]
  },
  {
   "cell_type": "code",
   "execution_count": 70,
   "metadata": {},
   "outputs": [
    {
     "data": {
      "text/html": [
       "<div>\n",
       "<style scoped>\n",
       "    .dataframe tbody tr th:only-of-type {\n",
       "        vertical-align: middle;\n",
       "    }\n",
       "\n",
       "    .dataframe tbody tr th {\n",
       "        vertical-align: top;\n",
       "    }\n",
       "\n",
       "    .dataframe thead th {\n",
       "        text-align: right;\n",
       "    }\n",
       "</style>\n",
       "<table border=\"1\" class=\"dataframe\">\n",
       "  <thead>\n",
       "    <tr style=\"text-align: right;\">\n",
       "      <th></th>\n",
       "      <th>p_brine_above_barrier</th>\n",
       "      <th>p_fluid_below_barrier</th>\n",
       "      <th>rho_brine_below_barrier</th>\n",
       "      <th>rho_fluid_below_barrier</th>\n",
       "      <th>0.01</th>\n",
       "      <th>10</th>\n",
       "      <th>1000.0</th>\n",
       "    </tr>\n",
       "  </thead>\n",
       "  <tbody>\n",
       "    <tr>\n",
       "      <th>test1</th>\n",
       "      <td>36.404761</td>\n",
       "      <td>96.130279</td>\n",
       "      <td>1027.456485</td>\n",
       "      <td>893.389973</td>\n",
       "      <td>0.0</td>\n",
       "      <td>0.02349</td>\n",
       "      <td>2.36091</td>\n",
       "    </tr>\n",
       "    <tr>\n",
       "      <th>test2</th>\n",
       "      <td>36.404761</td>\n",
       "      <td>82.582736</td>\n",
       "      <td>1027.456485</td>\n",
       "      <td>879.392318</td>\n",
       "      <td>0.0</td>\n",
       "      <td>0.01848</td>\n",
       "      <td>1.85960</td>\n",
       "    </tr>\n",
       "    <tr>\n",
       "      <th>test3</th>\n",
       "      <td>36.404761</td>\n",
       "      <td>152.344035</td>\n",
       "      <td>1027.456485</td>\n",
       "      <td>936.756133</td>\n",
       "      <td>0.0</td>\n",
       "      <td>0.04441</td>\n",
       "      <td>4.45239</td>\n",
       "    </tr>\n",
       "  </tbody>\n",
       "</table>\n",
       "</div>"
      ],
      "text/plain": [
       "      p_brine_above_barrier p_fluid_below_barrier rho_brine_below_barrier  \\\n",
       "test1             36.404761             96.130279             1027.456485   \n",
       "test2             36.404761             82.582736             1027.456485   \n",
       "test3             36.404761            152.344035             1027.456485   \n",
       "\n",
       "      rho_fluid_below_barrier  0.01       10   1000.0  \n",
       "test1              893.389973   0.0  0.02349  2.36091  \n",
       "test2              879.392318   0.0  0.01848  1.85960  \n",
       "test3              936.756133   0.0  0.04441  4.45239  "
      ]
     },
     "execution_count": 70,
     "metadata": {},
     "output_type": "execute_result"
    }
   ],
   "source": [
    "my_pressure.compute_barrier_leakage(well=my_well, barrier_name=main_barrier)"
   ]
  },
  {
   "cell_type": "code",
   "execution_count": null,
   "metadata": {},
   "outputs": [],
   "source": []
  }
 ],
 "metadata": {
  "kernelspec": {
   "display_name": "winc-onepager-kkKEUEKl-py3.12",
   "language": "python",
   "name": "python3"
  },
  "language_info": {
   "codemirror_mode": {
    "name": "ipython",
    "version": 3
   },
   "file_extension": ".py",
   "mimetype": "text/x-python",
   "name": "python",
   "nbconvert_exporter": "python",
   "pygments_lexer": "ipython3",
   "version": "3.12.10"
  }
 },
 "nbformat": 4,
 "nbformat_minor": 4
}
